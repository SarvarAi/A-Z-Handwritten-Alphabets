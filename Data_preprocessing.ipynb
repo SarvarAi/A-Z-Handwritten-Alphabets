{
 "cells": [
  {
   "cell_type": "markdown",
   "id": "8fc23fef",
   "metadata": {},
   "source": [
    "### Importing relevant libraries"
   ]
  },
  {
   "cell_type": "code",
   "execution_count": 26,
   "id": "106e9233",
   "metadata": {},
   "outputs": [],
   "source": [
    "from sklearn import preprocessing\n",
    "from matplotlib import pyplot as plt\n",
    "import matplotlib\n",
    "import numpy as np"
   ]
  },
  {
   "cell_type": "markdown",
   "id": "6c92abd4",
   "metadata": {},
   "source": [
    "### Loading the data"
   ]
  },
  {
   "cell_type": "code",
   "execution_count": 2,
   "id": "f3639761",
   "metadata": {},
   "outputs": [],
   "source": [
    "path = 'A_Z Handwritten Data.csv'\n",
    "\n",
    "raw_data = np.loadtxt(path, delimiter=',')"
   ]
  },
  {
   "cell_type": "markdown",
   "id": "9600292f",
   "metadata": {},
   "source": [
    "### Balancing the dataset"
   ]
  },
  {
   "cell_type": "code",
   "execution_count": 3,
   "id": "b48269e0",
   "metadata": {},
   "outputs": [],
   "source": [
    "index_of_right_answers = []\n",
    "unique_indices = []\n",
    "\n",
    "number_of_indices = {}\n",
    "\n",
    "for row in raw_data:\n",
    "    index_of_right_answers.append(row[0])\n",
    "\n",
    "    \n",
    "for index in index_of_right_answers:\n",
    "    if index not in unique_indices:\n",
    "        unique_indices.append(index)\n",
    "        number_of_indices[f'{index}'] = index_of_right_answers.count(index)"
   ]
  },
  {
   "cell_type": "code",
   "execution_count": 4,
   "id": "03ec5307",
   "metadata": {
    "scrolled": true
   },
   "outputs": [],
   "source": [
    "min_number_of_indecies = min(number_of_indices.values())\n",
    "\n",
    "balanced_data = []\n",
    "balaced_data_indices = []\n",
    "\n",
    "for row in raw_data:\n",
    "    index = int(row[0])\n",
    "    number_of_index_in_blanced_data = int(balaced_data_indices.count(index))\n",
    "    if min_number_of_indecies > number_of_index_in_blanced_data:\n",
    "        balanced_data.append(row)\n",
    "        balaced_data_indices.append(index)\n",
    "        \n",
    "balanced_data = np.array(balanced_data)"
   ]
  },
  {
   "cell_type": "markdown",
   "id": "55e41628",
   "metadata": {},
   "source": [
    "### Transforming the range of pixels from [0, 255] to [0, 1]"
   ]
  },
  {
   "cell_type": "code",
   "execution_count": 5,
   "id": "44705014",
   "metadata": {},
   "outputs": [],
   "source": [
    "index_of_letter = balanced_data[:, 0]\n",
    "indices_of_image = balanced_data[:, 1:]\n",
    "\n",
    "scaled_image = indices_of_image / 255.0\n",
    "\n",
    "scaled_balanced_data = np.column_stack((index_of_letter, scaled_image))"
   ]
  },
  {
   "cell_type": "markdown",
   "id": "0bdb9044",
   "metadata": {},
   "source": [
    "### Shuffling the balanced, scaled data"
   ]
  },
  {
   "cell_type": "code",
   "execution_count": 6,
   "id": "fd4fad2a",
   "metadata": {},
   "outputs": [],
   "source": [
    "shuffled_indices = np.arange(scaled_balanced_data.shape[0])\n",
    "np.random.shuffle(shuffled_indices)\n",
    "\n",
    "shuffled_data = scaled_balanced_data[shuffled_indices]"
   ]
  },
  {
   "cell_type": "markdown",
   "id": "8105e393",
   "metadata": {},
   "source": [
    "### Splitting the data"
   ]
  },
  {
   "cell_type": "code",
   "execution_count": 7,
   "id": "05b8bafc",
   "metadata": {},
   "outputs": [],
   "source": [
    "samples_count = shuffled_data.shape[0]\n",
    "\n",
    "train_samples_count = int(0.8*samples_count)\n",
    "validation_samples_count = int(0.1*samples_count)\n",
    "test_samples_count = samples_count - train_samples_count - validation_samples_count\n",
    "\n",
    "train_data = shuffled_data[:train_samples_count]\n",
    "validation_data = shuffled_data[train_samples_count:train_samples_count+validation_samples_count]\n",
    "test_data = shuffled_data[train_samples_count+validation_samples_count:]"
   ]
  },
  {
   "cell_type": "markdown",
   "id": "f32e0357",
   "metadata": {},
   "source": [
    "### Converting letter to the matrix"
   ]
  },
  {
   "cell_type": "code",
   "execution_count": 8,
   "id": "6cf739f4",
   "metadata": {},
   "outputs": [],
   "source": [
    "def matrix(index):\n",
    "    mat = np.zeros((1, 26))\n",
    "    mat[0, index] = 1\n",
    "    return mat[0]\n",
    "    \n",
    "def split_inputs_targets(data):\n",
    "    targets_data = []\n",
    "    for row in data:\n",
    "        mat = matrix(int(row[0]))\n",
    "        targets_data.append(mat)\n",
    "    \n",
    "    targets_data = np.array(targets_data)\n",
    "    inputs_data = data[:, 1:]\n",
    "    \n",
    "    return inputs_data , targets_data "
   ]
  },
  {
   "cell_type": "code",
   "execution_count": 9,
   "id": "e28dd47c",
   "metadata": {},
   "outputs": [],
   "source": [
    "train_inputs_data, train_targets_data = split_inputs_targets(train_data)\n",
    "validation_inputs_data, validation_targets_data = split_inputs_targets(validation_data)\n",
    "test_inputs_data, test_targets_data = split_inputs_targets(test_data)"
   ]
  },
  {
   "cell_type": "markdown",
   "id": "c7b5c251",
   "metadata": {},
   "source": [
    "### Experimental part, drawing and comparing"
   ]
  },
  {
   "cell_type": "code",
   "execution_count": 43,
   "id": "957a1da7",
   "metadata": {},
   "outputs": [],
   "source": [
    "def draw(data, index):\n",
    "    row_test_data = data[index]\n",
    "    image_test_data = list(row_test_data)\n",
    "\n",
    "    image_width = 28\n",
    "    image_height = 28\n",
    "    \n",
    "    image_test_data = np.dot(image_test_data, 255)\n",
    "    \n",
    "    image_array = np.array(image_test_data)\n",
    "    image_array = image_array.reshape((image_height, image_width))\n",
    "\n",
    "    image = np.uint8(image_array)\n",
    "\n",
    "    plt.imshow(image, cmap=matplotlib.cm.binary, interpolation='nearest')\n",
    "    plt.show()"
   ]
  },
  {
   "cell_type": "code",
   "execution_count": 61,
   "id": "e4fdaa0c",
   "metadata": {},
   "outputs": [
    {
     "name": "stdout",
     "output_type": "stream",
     "text": [
      "[0. 0. 0. 0. 0. 0. 0. 0. 0. 0. 0. 0. 0. 0. 0. 0. 0. 0. 0. 0. 0. 1. 0. 0.\n",
      " 0. 0.]\n"
     ]
    },
    {
     "data": {
      "image/png": "[encoded data removed]",
      "text/plain": [
       "<Figure size 640x480 with 1 Axes>"
      ]
     },
     "metadata": {},
     "output_type": "display_data"
    }
   ],
   "source": [
    "number_of_letter = 5432\n",
    "\n",
    "print(train_targets_data[number_of_letter])\n",
    "draw(train_inputs_data, number_of_letter)"
   ]
  },
  {
   "cell_type": "markdown",
   "id": "963906fa",
   "metadata": {},
   "source": [
    "### Uploading the data to the *.npz"
   ]
  },
  {
   "cell_type": "code",
   "execution_count": 57,
   "id": "1b668345",
   "metadata": {},
   "outputs": [],
   "source": [
    "np.savez('Train_data', inputs=train_inputs_data, targets=train_targets_data)\n",
    "np.savez('Validation_data', inputs=validation_inputs_data, targets=validation_targets_data)\n",
    "np.savez('Test_data', inputs=test_inputs_data, targets=test_targets_data)"
   ]
  }
 ],
 "metadata": {
  "kernelspec": {
   "display_name": "Python 3 (ipykernel)",
   "language": "python",
   "name": "python3"
  },
  "language_info": {
   "codemirror_mode": {
    "name": "ipython",
    "version": 3
   },
   "file_extension": ".py",
   "mimetype": "text/x-python",
   "name": "python",
   "nbconvert_exporter": "python",
   "pygments_lexer": "ipython3",
   "version": "3.11.3"
  }
 },
 "nbformat": 4,
 "nbformat_minor": 5
}
